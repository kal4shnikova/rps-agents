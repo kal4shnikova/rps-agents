{
  "nbformat": 4,
  "nbformat_minor": 0,
  "metadata": {
    "colab": {
      "provenance": []
    },
    "kernelspec": {
      "name": "python3",
      "display_name": "Python 3"
    },
    "language_info": {
      "name": "python"
    }
  },
  "cells": [
    {
      "cell_type": "code",
      "execution_count": null,
      "metadata": {
        "id": "KwYX4v8tDcIX"
      },
      "outputs": [],
      "source": [
        "!pip install -q -U kaggle-environments\n",
        "\n",
        "from kaggle_environments import make, evaluate\n",
        "import random"
      ]
    },
    {
      "cell_type": "code",
      "source": [
        "def rock_agent(observation, configuration):\n",
        "    return 0  # 0 - это \"камень\""
      ],
      "metadata": {
        "id": "87fQQM55D6VG"
      },
      "execution_count": null,
      "outputs": []
    },
    {
      "cell_type": "code",
      "source": [
        "def paper_agent(observation, configuration):\n",
        "    return 1  # 1 - это \"бумага\""
      ],
      "metadata": {
        "id": "R72XVid8EBsj"
      },
      "execution_count": null,
      "outputs": []
    },
    {
      "cell_type": "code",
      "source": [
        "def scissors_agent(observation, configuration):\n",
        "    return 2  # 2 - это \"ножницы\""
      ],
      "metadata": {
        "id": "vJ_pgKbVEEoS"
      },
      "execution_count": null,
      "outputs": []
    },
    {
      "cell_type": "code",
      "source": [
        "def copy_opponent(observation, configuration):\n",
        "    if observation.step > 0:\n",
        "        return observation.lastOpponentAction  # Копирует ход противника\n",
        "    return random.randint(0, 2)  # Случайный ход на первом шаге"
      ],
      "metadata": {
        "id": "hhQ6oLn1EHLs"
      },
      "execution_count": null,
      "outputs": []
    },
    {
      "cell_type": "code",
      "source": [
        "def random_agent(observation, configuration):\n",
        "    return random.randint(0, 2)  # Случайное число от 0 до 2"
      ],
      "metadata": {
        "id": "2HJnPfGXEKBP"
      },
      "execution_count": null,
      "outputs": []
    },
    {
      "cell_type": "code",
      "source": [
        "env = make(\"rps\", configuration={\"episodeSteps\": 100})"
      ],
      "metadata": {
        "id": "V6_Gc1WTEMhU"
      },
      "execution_count": null,
      "outputs": []
    },
    {
      "cell_type": "code",
      "source": [
        "# Список агентов\n",
        "agents = [rock_agent, paper_agent, scissors_agent, copy_opponent, random_agent]\n",
        "\n",
        "# Турнир и сбор результатов\n",
        "results = []\n",
        "for i, agent1 in enumerate(agents):\n",
        "    for j, agent2 in enumerate(agents):\n",
        "        if i != j:\n",
        "            outcomes = evaluate(\n",
        "                \"rps\",\n",
        "                [agent1, agent2],\n",
        "                configuration={\"episodeSteps\": 100},\n",
        "                num_episodes=10\n",
        "            )\n",
        "            results.append((f\"Agent {i} vs Agent {j}\", outcomes))"
      ],
      "metadata": {
        "id": "f_ge05vFEU1Q"
      },
      "execution_count": null,
      "outputs": []
    },
    {
      "cell_type": "code",
      "source": [
        "for result in results:\n",
        "    print(f\"{result[0]}: {result[1]}\")"
      ],
      "metadata": {
        "id": "6VRBlTRQEYK7"
      },
      "execution_count": null,
      "outputs": []
    }
  ]
}